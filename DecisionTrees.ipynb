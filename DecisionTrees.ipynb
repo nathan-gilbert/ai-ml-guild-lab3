{
 "cells": [
  {
   "cell_type": "markdown",
   "source": [
    "# Decision Trees\n",
    "\n",
    "A nonlinear, human-readable classification or regression tool\n",
    "\n",
    "## Cereal Data\n",
    "\n",
    "Pulled some data off of Kaggle: <https://www.kaggle.com/crawford/80-cereals>\n",
    "\n",
    "Let's learn about Cereal!"
   ],
   "metadata": {
    "collapsed": false
   }
  },
  {
   "cell_type": "code",
   "execution_count": null,
   "outputs": [],
   "source": [
    "import pandas as pd\n",
    "from sklearn.model_selection import train_test_split\n",
    "from sklearn.tree import DecisionTreeRegressor\n",
    "\n",
    "input_file = \"data/cereal.csv\""
   ],
   "metadata": {
    "collapsed": false,
    "pycharm": {
     "name": "#%%\n"
    }
   }
  },
  {
   "cell_type": "markdown",
   "source": [
    "Pandas is a great tool for manipulating data and provide a great datastructure\n",
    "called a [DataFrame](https://pandas.pydata.org/pandas-docs/stable/reference/api/pandas.DataFrame.html)\n",
    "\n",
    "<https://pandas.pydata.org>"
   ],
   "metadata": {
    "collapsed": false
   }
  },
  {
   "cell_type": "code",
   "execution_count": null,
   "outputs": [],
   "source": [
    "# easily pull in csv data with pandas dataframes\n",
    "dataset = pd.read_csv(input_file)\n"
   ],
   "metadata": {
    "collapsed": false,
    "pycharm": {
     "name": "#%%\n"
    }
   }
  }
 ],
 "metadata": {
  "kernelspec": {
   "display_name": "Python 3",
   "language": "python",
   "name": "python3"
  },
  "language_info": {
   "codemirror_mode": {
    "name": "ipython",
    "version": 2
   },
   "file_extension": ".py",
   "mimetype": "text/x-python",
   "name": "python",
   "nbconvert_exporter": "python",
   "pygments_lexer": "ipython2",
   "version": "2.7.6"
  }
 },
 "nbformat": 4,
 "nbformat_minor": 0
}